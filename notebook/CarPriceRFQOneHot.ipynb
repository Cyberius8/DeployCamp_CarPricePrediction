{
 "cells": [
  {
   "cell_type": "code",
   "execution_count": null,
   "id": "138173ac-fbc1-40bb-8311-fac65f0068e9",
   "metadata": {
    "scrolled": true
   },
   "outputs": [],
   "source": [
    "!pip install numpy"
   ]
  },
  {
   "cell_type": "code",
   "execution_count": null,
   "id": "7ea9e108-5f4a-41c1-8ff4-b88cbeebe48d",
   "metadata": {
    "scrolled": true
   },
   "outputs": [],
   "source": [
    "!pip install pandas"
   ]
  },
  {
   "cell_type": "code",
   "execution_count": null,
   "id": "5854cb3a-8eb6-4860-96b2-52c17fc1e726",
   "metadata": {
    "scrolled": true
   },
   "outputs": [],
   "source": [
    "!pip install seaborn"
   ]
  },
  {
   "cell_type": "code",
   "execution_count": null,
   "id": "6401ab41-fae2-4824-a8fe-be94e20a8b5b",
   "metadata": {
    "scrolled": true
   },
   "outputs": [],
   "source": [
    "!pip install scikit-learn"
   ]
  },
  {
   "cell_type": "code",
   "execution_count": null,
   "id": "39288864-201a-4e72-9e3c-531d2c6b4a21",
   "metadata": {},
   "outputs": [],
   "source": [
    "!pip install xgboost"
   ]
  },
  {
   "cell_type": "code",
   "execution_count": null,
   "id": "8374169c-1597-480c-bf8e-9f0f7be7e8f0",
   "metadata": {},
   "outputs": [],
   "source": [
    "!pip install sklearn_quantile"
   ]
  },
  {
   "cell_type": "code",
   "execution_count": null,
   "id": "8e01d0a9-59bc-450a-9eda-ce4fc29db7c7",
   "metadata": {
    "scrolled": true
   },
   "outputs": [],
   "source": [
    "!pip install dagshub 'mlflow>=2,<3' --force-reinstall"
   ]
  },
  {
   "cell_type": "code",
   "execution_count": null,
   "id": "dfe66a9d-82f8-48e7-987f-4814bb375d11",
   "metadata": {},
   "outputs": [],
   "source": [
    "import numpy as np\n",
    "import pandas as pd\n",
    "\n",
    "from sklearn.model_selection import train_test_split, cross_val_score, KFold\n",
    "from sklearn.metrics import mean_absolute_error, mean_squared_error, r2_score\n",
    "from sklearn.preprocessing import LabelEncoder\n",
    "from sklearn.preprocessing import OneHotEncoder\n",
    "from sklearn.feature_selection import f_classif\n",
    "\n",
    "from sklearn.ensemble import RandomForestRegressor\n",
    "from sklearn_quantile import RandomForestQuantileRegressor\n",
    "from xgboost import XGBRegressor"
   ]
  },
  {
   "cell_type": "markdown",
   "id": "73ea7245-8bbb-48f7-aa42-168343bd20e4",
   "metadata": {},
   "source": [
    "### Training & Testing"
   ]
  },
  {
   "cell_type": "code",
   "execution_count": null,
   "id": "391ac849-be06-4f67-a943-6d1535c71381",
   "metadata": {},
   "outputs": [],
   "source": [
    "def load_and_preprocess(csv_path):\n",
    "    df_raw = pd.read_csv(csv_path)\n",
    "\n",
    "    # Drop kolom tidak penting\n",
    "    df_raw = df_raw.drop(columns=['car_ID', 'symboling'])\n",
    "\n",
    "    # Normalisasi nama mobil dan ekstraksi brand\n",
    "    df_raw['CarName'] = df_raw['CarName'].str.lower()\n",
    "    df_raw['brand'] = df_raw['CarName'].apply(lambda x: x.split(' ')[0])\n",
    "    df_raw['brand'] = df_raw['brand'].replace({\n",
    "        'maxda': 'mazda',\n",
    "        'porcshce': 'porsche',\n",
    "        'toyouta': 'toyota',\n",
    "        'vokswagen': 'volkswagen',\n",
    "        'vw': 'volkswagen'\n",
    "    })\n",
    "    df_raw.drop(columns=['CarName'], inplace=True)\n",
    "\n",
    "    # Konversi harga ke IDR\n",
    "    df_raw['price'] = df_raw['price'] * 16000\n",
    "\n",
    "    # Encoding kolom kategorikal\n",
    "    cat_cols = df_raw.select_dtypes(include='object').columns\n",
    "    oh_encoder = OneHotEncoder(handle_unknown='ignore')\n",
    "    oh_encoded = oh_encoder.fit_transform(df_raw[cat_cols])\n",
    "    df_category_encoded = pd.DataFrame(oh_encoded.toarray(), columns=oh_encoder.get_feature_names_out())\n",
    "\n",
    "    # Menggabungkan semua kolom\n",
    "    df_non_category = df_raw.select_dtypes(exclude='object')\n",
    "    df_result = pd.concat([df_non_category, df_category_encoded], axis=1)\n",
    "\n",
    "    return df_raw, df_result, oh_encoder"
   ]
  },
  {
   "cell_type": "code",
   "execution_count": null,
   "id": "2582ac19-6209-469b-b3cb-ed93e8b946cd",
   "metadata": {},
   "outputs": [],
   "source": [
    "def evaluate_model(model, X_test, y_test):\n",
    "    y_pred = model.predict(X_test)\n",
    "    mae = mean_absolute_error(y_test, y_pred)\n",
    "    rmse = np.sqrt(mean_squared_error(y_test, y_pred))\n",
    "    r2 = r2_score(y_test, y_pred)\n",
    "    return mae, rmse, r2"
   ]
  },
  {
   "cell_type": "code",
   "execution_count": null,
   "id": "5b38dfb0-059a-4776-a7b7-c0b53106012c",
   "metadata": {},
   "outputs": [],
   "source": [
    "csv_path = \"https://raw.githubusercontent.com/Cyberius8/DeployCamp_CarPricePrediction/refs/heads/main/data/CarPrice_Assignment.csv\"\n",
    "df_raw, df, encoder = load_and_preprocess(csv_path)"
   ]
  },
  {
   "cell_type": "code",
   "execution_count": null,
   "id": "5cda2482-de77-4348-8eaa-768ee9c15152",
   "metadata": {},
   "outputs": [],
   "source": [
    "from scipy.stats import f_oneway\n",
    "\n",
    "categories = df_raw.select_dtypes(include='object').columns\n",
    "cat_dict = {}\n",
    "for c in categories:\n",
    "    cat_dict[c] = df_raw.groupby(c)[\"price\"].apply(list)\n",
    "\n",
    "    f_stat, p_val = f_oneway(*cat_dict[c])\n",
    "    print(f\"{c} F-statistic: {f_stat}\")\n",
    "    print(f\"{c} p-value: {p_val}\")\n",
    "    print(\"---\")"
   ]
  },
  {
   "cell_type": "code",
   "execution_count": null,
   "id": "0ed0dd36-0905-4d52-aee3-5bef940286bd",
   "metadata": {},
   "outputs": [],
   "source": [
    "selected_category_features = [c for c in df.columns if \"brand_\" in c or \"fuelsystem_\" in c]\n",
    "selected_noncategory_features = ['wheelbase', 'carlength', 'carwidth', 'curbweight', 'enginesize', 'boreratio', 'horsepower']\n",
    "selected_features = np.concatenate([selected_category_features, selected_noncategory_features])\n",
    "\n",
    "X = df[selected_features]\n",
    "y = df['price']\n",
    "\n",
    "models_name = [\"rf\", \"rfq\", \"xgb\"]\n",
    "\n",
    "for m_name in models_name:\n",
    "    print(f\"Model: {m_name}\")\n",
    "    scores_r2 = []\n",
    "    scores_mae = []\n",
    "    scores_rmse = []\n",
    "\n",
    "    if m_name == \"rf\":\n",
    "        model = RandomForestRegressor(n_estimators=100, random_state=42)\n",
    "    if m_name == \"rfq\":\n",
    "        model = RandomForestQuantileRegressor(n_estimators=100, q=[0.05, 0.5, 0.95], random_state=42)\n",
    "    if m_name == \"xgb\":\n",
    "        model = XGBRegressor(learning_rate=0.05, random_state=42)\n",
    "\n",
    "    kf = KFold(n_splits=5, shuffle=True, random_state=42)\n",
    "    for fold, (train_index, test_index) in enumerate(kf.split(X), start=1):\n",
    "        X_train, X_test = X.loc[train_index], X.loc[test_index]\n",
    "        y_train, y_test = y.loc[train_index], y.loc[test_index]\n",
    "\n",
    "        model.fit(X_train, y_train)\n",
    "        if m_name == \"rfq\":\n",
    "            y_lower, y_pred, y_upper = model.predict(X_test)\n",
    "        else:\n",
    "            y_pred = model.predict(X_test)\n",
    "\n",
    "        r2 = r2_score(y_test, y_pred)\n",
    "        mae = mean_absolute_error(y_test, y_pred)\n",
    "        rmse = np.sqrt(mean_squared_error(y_test, y_pred))\n",
    "\n",
    "        print(f\"Fold {fold}: R2 = {r2:.4f}\")\n",
    "        scores_r2.append(r2)\n",
    "        scores_mae.append(mae)\n",
    "        scores_rmse.append(rmse)\n",
    "\n",
    "    print(f\"R2 Mean: {np.mean(scores_r2):.4f}\")\n",
    "    print(f\"MAE Mean: {np.mean(scores_mae):.4f}\")\n",
    "    print(f\"RMSE Mean: {np.mean(scores_rmse):.4f}\")\n",
    "    print(\"-------\")"
   ]
  },
  {
   "cell_type": "code",
   "execution_count": null,
   "id": "7991f7cd-5908-4678-a590-4bdb6710c880",
   "metadata": {},
   "outputs": [],
   "source": [
    "import matplotlib.pyplot as plt\n",
    "import numpy as np\n",
    "import matplotlib.ticker as ticker\n",
    "\n",
    "x = range(len(y_pred))\n",
    "sort_idx = np.argsort(y_pred)\n",
    "y_pred_sorted = y_pred[sort_idx]\n",
    "y_lower_sorted = y_lower[sort_idx]\n",
    "y_upper_sorted = y_upper[sort_idx]\n",
    "x = np.arange(len(y_pred_sorted))\n",
    "\n",
    "plt.figure(figsize=(8, 5))\n",
    "plt.plot(x, y_pred_sorted, color='blue', label='Prediksi')\n",
    "plt.fill_between(x, y_lower_sorted, y_upper_sorted,\n",
    "                 color='blue', alpha=0.2, label='Rentang +/-')\n",
    "\n",
    "# lebar rentang prediksi\n",
    "range_width = y_upper_sorted - y_lower_sorted\n",
    "plt.plot(x, range_width, color='red', alpha=0.5, linewidth=1, label='Lebar rentang')\n",
    "\n",
    "# format rupiah\n",
    "formatter = ticker.StrMethodFormatter('Rp {x:,.0f}')\n",
    "plt.gca().yaxis.set_major_formatter(formatter)\n",
    "\n",
    "# label\n",
    "plt.gca().set_xlabel('')\n",
    "plt.ylabel('Harga Mobil (Rp)')\n",
    "plt.title('Plot Hasil Prediksi Harga Mobil (Random Forest Quantile)')\n",
    "plt.legend()\n",
    "plt.tight_layout()\n",
    "plt.show()\n"
   ]
  },
  {
   "cell_type": "markdown",
   "id": "265e2328-773a-4852-89c5-365bbc515978",
   "metadata": {},
   "source": [
    "### MLFLow"
   ]
  },
  {
   "cell_type": "code",
   "execution_count": null,
   "id": "e3f4bc7e-7157-4090-bbd9-595c095d2a23",
   "metadata": {},
   "outputs": [],
   "source": [
    "import mlflow\n",
    "import mlflow.sklearn\n",
    "# from mlflow.tracking import MlflowClient\n",
    "\n",
    "\n",
    "# Setup MLflow ke Dagshub\n",
    "# MLFLOW_TRACKING_URI = \"https://dagshub.com/Cyberius8/DeployCamp_CarPricePrediction.mlflow\"\n",
    "# mlflow.set_tracking_uri(MLFLOW_TRACKING_URI)\n",
    "# mlflow.set_experiment(\"Car Price Prediction\")"
   ]
  },
  {
   "cell_type": "code",
   "execution_count": null,
   "id": "39e27dcd-992e-44f4-9fcb-119d0c0d5c0c",
   "metadata": {
    "scrolled": true
   },
   "outputs": [],
   "source": [
    "import dagshub\n",
    "dagshub.init(repo_owner='Cyberius8', repo_name='DeployCamp_CarPricePrediction', mlflow=True)"
   ]
  },
  {
   "cell_type": "code",
   "execution_count": null,
   "id": "ecd28b15-8502-4a30-8275-310f618e5458",
   "metadata": {
    "scrolled": true
   },
   "outputs": [],
   "source": [
    "# memastikan mlflow membaca tracking URI yg sesuai\n",
    "mlflow_client = MlflowClient()\n",
    "mlflow_client.search_experiments()"
   ]
  },
  {
   "cell_type": "code",
   "execution_count": null,
   "id": "e35905fc-91a9-4573-a169-4ab5fcab27be",
   "metadata": {
    "scrolled": true
   },
   "outputs": [],
   "source": [
    "# memastikan experiment berjalan\n",
    "mlflow.set_experiment(\"quick-test\")\n",
    "\n",
    "with mlflow.start_run():\n",
    "    mlflow.log_param(\"test_param\", 123)\n",
    "    mlflow.log_metric(\"test_metric\", 0.456)"
   ]
  },
  {
   "cell_type": "markdown",
   "id": "dda1d0b2-c409-4f50-a694-0b368b9e40ec",
   "metadata": {},
   "source": [
    "#### Preprocessing"
   ]
  },
  {
   "cell_type": "code",
   "execution_count": null,
   "id": "ffd77e96-0211-4174-99b3-3796df2cac1e",
   "metadata": {},
   "outputs": [],
   "source": [
    "csv_path = \"https://raw.githubusercontent.com/Cyberius8/DeployCamp_CarPricePrediction/refs/heads/main/data/CarPrice_Assignment.csv\"\n",
    "df_raw, df, encoder = load_and_preprocess(csv_path)"
   ]
  },
  {
   "cell_type": "markdown",
   "id": "29c3712c-bae5-45f2-ac6f-343c5bb00880",
   "metadata": {},
   "source": [
    "#### Training & Testing"
   ]
  },
  {
   "cell_type": "code",
   "execution_count": null,
   "id": "7140d330-f7e1-4ac4-ad0a-0ecb9e3c8ebe",
   "metadata": {
    "scrolled": true
   },
   "outputs": [],
   "source": [
    "# INITIALIZATION\n",
    "mlflow.set_experiment(\"Car Price Prediction\")\n",
    "\n",
    "selected_category_features = [c for c in df.columns if \"brand_\" in c or \"fuelsystem_\" in c]\n",
    "selected_noncategory_features = ['wheelbase', 'carlength', 'carwidth', 'curbweight', 'enginesize', 'boreratio', 'horsepower']\n",
    "selected_features = np.concatenate([selected_category_features, selected_noncategory_features])\n",
    "\n",
    "X = df[selected_features]\n",
    "y = df['price']\n",
    "\n",
    "models_name = [\"RandomForestOneHotEncoding\", \"QuantileRFOneHotEncoding\", \"XGBRegressorOneHotEncoding\"]\n",
    "# models_name = [\"RandomForest - OneHotEncoding\"]\n",
    "\n",
    "for m_name in models_name:\n",
    "    print(f\"Model: {m_name}\")\n",
    "    scores_r2 = []\n",
    "    scores_mae = []\n",
    "    scores_rmse = []\n",
    "\n",
    "    if m_name == \"RandomForestOneHotEncoding\":\n",
    "        model = RandomForestRegressor(n_estimators=100, random_state=42)\n",
    "        model_params = {\"n_estimators\": 100}\n",
    "    if m_name == \"QuantileRFOneHotEncoding\":\n",
    "        model = RandomForestQuantileRegressor(n_estimators=100, q=[0.05, 0.5, 0.95], random_state=42)\n",
    "        model_params = {\"n_estimators\": 100, \"quantiles\": [0.05, 0.5, 0.95]}\n",
    "    if m_name == \"XGBRegressorOneHotEncoding\":\n",
    "        model = XGBRegressor(learning_rate=0.05, random_state=42)\n",
    "        model_params = {\"learning_rate\": 0.05}\n",
    "\n",
    "    # RUN PER LOOP\n",
    "    with mlflow.start_run(run_name=m_name) as run:\n",
    "        kf = KFold(n_splits=5, shuffle=True, random_state=42)\n",
    "        for fold, (train_index, test_index) in enumerate(kf.split(X), start=1):\n",
    "            X_train, X_test = X.loc[train_index], X.loc[test_index]\n",
    "            y_train, y_test = y.loc[train_index], y.loc[test_index]\n",
    "    \n",
    "            model.fit(X_train, y_train)\n",
    "            if m_name == \"QuantileRFOneHotEncoding\":\n",
    "                y_lower, y_pred, y_upper = model.predict(X_test)\n",
    "            else:\n",
    "                y_pred = model.predict(X_test)\n",
    "    \n",
    "            r2 = r2_score(y_test, y_pred)\n",
    "            mae = mean_absolute_error(y_test, y_pred)\n",
    "            rmse = np.sqrt(mean_squared_error(y_test, y_pred))\n",
    "    \n",
    "            print(f\"Fold {fold}: R2 = {r2:.4f}\")\n",
    "            scores_r2.append(r2)\n",
    "            scores_mae.append(mae)\n",
    "            scores_rmse.append(rmse)\n",
    "    \n",
    "        print(f\"R2 Mean: {np.mean(scores_r2):.4f}\")\n",
    "        print(f\"MAE Mean: {np.mean(scores_mae):.4f}\")\n",
    "        print(f\"RMSE Mean: {np.mean(scores_rmse):.4f}\")\n",
    "        print(\"-------\")\n",
    "    \n",
    "        # LOG PARAMS & MODEL\n",
    "        mlflow.log_params(model_params)\n",
    "        mlflow.sklearn.log_model(\n",
    "            sk_model=model, \n",
    "            artifact_path=m_name\n",
    "        )\n",
    "    \n",
    "        # REGISTER KE MODEL REGISTRY\n",
    "        model_uri = f\"runs:/{run.info.run_id}/{m_name}\"\n",
    "        mlflow.register_model(model_uri, m_name)\n",
    "    \n",
    "        # LOG METRICS + CV\n",
    "        mlflow.log_metrics({\n",
    "            \"CV_MAE\": np.mean(scores_r2),\n",
    "            \"CV_RMSE\": np.mean(scores_mae),\n",
    "            \"CV_R2\": np.mean(scores_rmse),\n",
    "        })"
   ]
  },
  {
   "cell_type": "code",
   "execution_count": null,
   "id": "afdb1973-f210-4079-b376-5e967b03d00d",
   "metadata": {},
   "outputs": [],
   "source": []
  }
 ],
 "metadata": {
  "kernelspec": {
   "display_name": "Python 3 (ipykernel)",
   "language": "python",
   "name": "python3"
  },
  "language_info": {
   "codemirror_mode": {
    "name": "ipython",
    "version": 3
   },
   "file_extension": ".py",
   "mimetype": "text/x-python",
   "name": "python",
   "nbconvert_exporter": "python",
   "pygments_lexer": "ipython3",
   "version": "3.12.11"
  }
 },
 "nbformat": 4,
 "nbformat_minor": 5
}
