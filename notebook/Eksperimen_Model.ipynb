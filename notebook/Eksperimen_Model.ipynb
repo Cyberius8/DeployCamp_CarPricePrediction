{
 "cells": [
  {
   "cell_type": "code",
   "execution_count": 60,
   "id": "a1e5bc3a",
   "metadata": {},
   "outputs": [],
   "source": [
    "import pandas as pd\n",
    "import numpy as np\n",
    "from sklearn.model_selection import KFold, cross_val_score\n",
    "from sklearn.pipeline import Pipeline\n",
    "from sklearn.preprocessing import StandardScaler\n",
    "from sklearn.ensemble import RandomForestRegressor\n",
    "from xgboost import XGBRegressor\n",
    "from sklearn.metrics import mean_squared_error\n",
    "import joblib\n",
    "import warnings\n",
    "warnings.filterwarnings('ignore', category=UserWarning)\n"
   ]
  },
  {
   "cell_type": "code",
   "execution_count": 61,
   "id": "04644bc2",
   "metadata": {},
   "outputs": [],
   "source": [
    "# Load dataset\n",
    "df = pd.read_csv(\"../data/CarPrice_Assignment_cleaned.csv\")\n",
    "target = 'price'\n",
    "\n",
    "# Gunakan hanya fitur yang konsisten dan mudah diinput manual\n",
    "# Drivewheel, Wheelbase, Carlength, Carwidth, Curbwheight, Enginesize, Fuelsystem, Boreratio,Horsepower\n",
    "features = [\n",
    "    'drivewheel', \n",
    "    'wheelbase', \n",
    "    'carlength', \n",
    "    'carwidth', \n",
    "    'curbweight', \n",
    "    'enginesize', \n",
    "    'fuelsystem', \n",
    "    'boreratio', \n",
    "    'horsepower'\n",
    "]\n",
    "\n",
    "X = df[features]\n",
    "y = df[target]\n",
    "\n",
    "kf = KFold(n_splits=5, shuffle=True, random_state=42)"
   ]
  },
  {
   "cell_type": "markdown",
   "id": "53ff34bd",
   "metadata": {},
   "source": [
    "# Alasan Pemilihan Parameter\n",
    "Berdasarkan Percobaan di Tes4 dengan GridSearch untuk menentukan parameter dengan R2 terbaik\n",
    "\n",
    "=== Summary of Grid Search Results ===\n",
    "| Model         |   Best Score | Best Params                                                                                                                                                                             |\n",
    "|:--------------|-------------:|:----------------------------------------------------------------------------------------------------------------------------------------------------------------------------------------|\n",
    "| Random Forest |     0.923629 | {'model__max_depth': None, 'model__max_features': 'sqrt', 'model__max_leaf_nodes': None, 'model__max_samples': None, 'model__min_samples_split': 2, 'model__n_estimators': 50}          |\n",
    "| XGBoost       |     0.921015 | {'model__colsample_bytree': 0.7, 'model__learning_rate': 0.1, 'model__max_depth': 7, 'model__n_estimators': 50, 'model__reg_alpha': 0, 'model__reg_lambda': 0, 'model__subsample': 0.7} |"
   ]
  },
  {
   "cell_type": "code",
   "execution_count": 62,
   "id": "7fce9d1f",
   "metadata": {},
   "outputs": [
    {
     "name": "stdout",
     "output_type": "stream",
     "text": [
      "Random Forest CV R2: 0.9240\n"
     ]
    },
    {
     "data": {
      "text/plain": [
       "['../model/model_rf.pkl']"
      ]
     },
     "execution_count": 62,
     "metadata": {},
     "output_type": "execute_result"
    }
   ],
   "source": [
    "rf_pipeline = Pipeline([\n",
    "    ('scaler', StandardScaler()),\n",
    "    ('model', RandomForestRegressor(max_depth=None, \n",
    "                                    max_features='sqrt',max_leaf_nodes=None,\n",
    "                                    max_samples=None,min_samples_split=2,\n",
    "                                    n_estimators=50, random_state=42))\n",
    "])\n",
    "\n",
    "rf_cv_scores = cross_val_score(rf_pipeline, X, y, cv=kf, scoring='r2')\n",
    "print(f\"Random Forest CV R2: {np.mean(rf_cv_scores):.4f}\")\n",
    "\n",
    "rf_pipeline.fit(X, y)\n",
    "joblib.dump(rf_pipeline, '../model/model_rf.pkl')\n"
   ]
  },
  {
   "cell_type": "code",
   "execution_count": 63,
   "id": "990f5efb",
   "metadata": {},
   "outputs": [
    {
     "name": "stdout",
     "output_type": "stream",
     "text": [
      "XGBoost CV R2: 0.9110\n"
     ]
    },
    {
     "data": {
      "text/plain": [
       "['../model/model_xgb.pkl']"
      ]
     },
     "execution_count": 63,
     "metadata": {},
     "output_type": "execute_result"
    }
   ],
   "source": [
    "xgb_pipeline = Pipeline([\n",
    "    ('scaler', StandardScaler()),\n",
    "    ('model', XGBRegressor(objective='reg:squarederror', verbosity=0, random_state=42, col_sample_bytree=0.7,\n",
    "                            learning_rate=0.1, max_depth=7, n_estimators=50, reg_alpha=0, reg_lambda=0, subsample=0.7))\n",
    "])\n",
    "\n",
    "xgb_cv_scores = cross_val_score(xgb_pipeline, X, y, cv=kf, scoring='r2')\n",
    "print(f\"XGBoost CV R2: {np.mean(xgb_cv_scores):.4f}\")\n",
    "\n",
    "xgb_pipeline.fit(X, y)\n",
    "joblib.dump(xgb_pipeline, '../model/model_xgb.pkl')\n"
   ]
  },
  {
   "cell_type": "code",
   "execution_count": 64,
   "id": "6e3d8836",
   "metadata": {},
   "outputs": [],
   "source": [
    "# alphas = [0.1, 0.5, 0.9]\n",
    "# models = {}\n",
    "# for alpha in alphas:\n",
    "#     lgbm_pipeline = Pipeline([\n",
    "#         ('scaler', StandardScaler()),\n",
    "#         ('model', LGBMRegressor(objective='quantile', alpha=alpha, n_estimators=100, random_state=42))\n",
    "#     ])\n",
    "\n",
    "#     cv_scores = cross_val_score(lgbm_pipeline, X, y, cv=kf, scoring='r2')\n",
    "#     print(f\"LGBM Quantile α={alpha:.1f} | CV R2: {np.mean(cv_scores):.4f}\")\n",
    "\n",
    "#     # Fit & save\n",
    "#     lgbm_pipeline.fit(X, y)\n",
    "#     model_path = f'../model/model_lgbm_q{int(alpha*100)}.pkl'\n",
    "#     joblib.dump(lgbm_pipeline, model_path)\n",
    "#     models[alpha] = lgbm_pipeline"
   ]
  }
 ],
 "metadata": {
  "kernelspec": {
   "display_name": ".venv (3.10.2)",
   "language": "python",
   "name": "python3"
  },
  "language_info": {
   "codemirror_mode": {
    "name": "ipython",
    "version": 3
   },
   "file_extension": ".py",
   "mimetype": "text/x-python",
   "name": "python",
   "nbconvert_exporter": "python",
   "pygments_lexer": "ipython3",
   "version": "3.10.2"
  }
 },
 "nbformat": 4,
 "nbformat_minor": 5
}
