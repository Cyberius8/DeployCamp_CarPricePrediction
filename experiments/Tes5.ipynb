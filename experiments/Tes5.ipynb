{
 "cells": [
  {
   "cell_type": "code",
   "execution_count": 65,
   "id": "69c42c5f",
   "metadata": {},
   "outputs": [],
   "source": [
    "import pandas as pd\n",
    "import joblib\n",
    "import time\n",
    "import warnings\n",
    "warnings.filterwarnings('ignore', category=UserWarning)\n",
    "\n",
    "# Load trained models (RF and XGB)\n",
    "model_rf = joblib.load('../model/model_rf.pkl')\n",
    "model_xgb = joblib.load('../model/model_xgb.pkl')"
   ]
  },
  {
   "cell_type": "code",
   "execution_count": 66,
   "id": "9b5765b2",
   "metadata": {},
   "outputs": [],
   "source": [
    "def Prediction(Model, Fitur: dict):\n",
    "    start_time = time.time()\n",
    "\n",
    "    # Convert input dict to DataFrame\n",
    "    X_input = pd.DataFrame([Fitur])\n",
    "\n",
    "    # Select model\n",
    "    if Model.upper() == 'RF':\n",
    "        model = model_rf\n",
    "    elif Model.upper() == 'XGB':\n",
    "        model = model_xgb\n",
    "    else:\n",
    "        return {\"error\": \"Model not recognized. Use 'RF' or 'XGB'.\"}\n",
    "\n",
    "    preds = []\n",
    "\n",
    "    if Model.upper() == 'RF':\n",
    "        rf_model = model.named_steps['model']\n",
    "        for estimator in rf_model.estimators_:\n",
    "            preds.append(estimator.predict(X_input)[0])\n",
    "\n",
    "    elif Model.upper() == 'XGB':\n",
    "        preds = [model.predict(X_input)[0]]\n",
    "\n",
    "    eksak_harga = round(sum(preds) / len(preds), 2)\n",
    "    rentang_harga = (round(min(preds), 2), round(max(preds), 2)) if len(preds) > 1 else (eksak_harga, eksak_harga)\n",
    "    execution_time = round(time.time() - start_time, 4)\n",
    "\n",
    "    #   Format ke IDR string\n",
    "    def format_idr(value):\n",
    "        return f\"Rp {value:,.0f}\".replace(\",\", \".\")\n",
    "\n",
    "    return {\n",
    "        \"Rentang Harga (IDR)\": (format_idr(rentang_harga[0]), format_idr(rentang_harga[1])),\n",
    "        \"Eksak Harga (IDR)\": format_idr(eksak_harga),\n",
    "        \"Execution Time (s)\": execution_time\n",
    "    }"
   ]
  },
  {
   "cell_type": "code",
   "execution_count": 67,
   "id": "444022a4",
   "metadata": {},
   "outputs": [],
   "source": [
    "inputdatarandom = {\n",
    "    'drivewheel': 1,\n",
    "    'wheelbase': 96.0,\n",
    "    'carlength': 171.2,\n",
    "    'carwidth': 65.5,\n",
    "    'curbweight': 2548,\n",
    "    'enginesize': 130,\n",
    "    'fuelsystem': 1,\n",
    "    'boreratio': 3.47,\n",
    "    'horsepower': 111\n",
    "}"
   ]
  },
  {
   "cell_type": "code",
   "execution_count": 68,
   "id": "dfd3c91e",
   "metadata": {},
   "outputs": [
    {
     "name": "stdout",
     "output_type": "stream",
     "text": [
      "RF\n",
      "{'Rentang Harga (IDR)': ('Rp 512.267.757', 'Rp 740.655.600'), 'Eksak Harga (IDR)': 'Rp 674.649.319', 'Execution Time (s)': 0.0443}\n",
      "XGB\n",
      "{'Rentang Harga (IDR)': ('Rp 181.969.680', 'Rp 181.969.680'), 'Eksak Harga (IDR)': 'Rp 181.969.680', 'Execution Time (s)': 0.0053}\n"
     ]
    }
   ],
   "source": [
    "print(\"RF\")\n",
    "print(Prediction(Model='RF', Fitur=inputdatarandom))\n",
    "print(\"XGB\")\n",
    "print(Prediction(Model='XGB', Fitur=inputdatarandom))"
   ]
  },
  {
   "cell_type": "code",
   "execution_count": 69,
   "id": "2be2874f",
   "metadata": {},
   "outputs": [],
   "source": [
    "inputdatacarid1 = {\n",
    "    'drivewheel': 2,\n",
    "    'wheelbase': 88.6,\n",
    "    'carlength': 168.8,\n",
    "    'carwidth': 64.1,\n",
    "    'curbweight': 2548,\n",
    "    'enginesize': 130,\n",
    "    'fuelsystem': 5,\n",
    "    'boreratio': 3.47,\n",
    "    'horsepower': 111\n",
    "}\n",
    "# price = Rp. 220.157.430"
   ]
  },
  {
   "cell_type": "code",
   "execution_count": 70,
   "id": "1569e029",
   "metadata": {},
   "outputs": [
    {
     "name": "stdout",
     "output_type": "stream",
     "text": [
      "RF\n",
      "{'Rentang Harga (IDR)': ('Rp 512.267.757', 'Rp 740.655.600'), 'Eksak Harga (IDR)': 'Rp 674.649.319', 'Execution Time (s)': 0.07}\n",
      "XGB\n",
      "{'Rentang Harga (IDR)': ('Rp 243.664.688', 'Rp 243.664.688'), 'Eksak Harga (IDR)': 'Rp 243.664.688', 'Execution Time (s)': 0.0031}\n"
     ]
    }
   ],
   "source": [
    "print(\"RF\")\n",
    "print(Prediction(Model='RF', Fitur=inputdatacarid1))\n",
    "print(\"XGB\")\n",
    "print(Prediction(Model='XGB', Fitur=inputdatacarid1))"
   ]
  },
  {
   "cell_type": "code",
   "execution_count": 71,
   "id": "731f486c",
   "metadata": {},
   "outputs": [],
   "source": [
    "\n",
    "inputdatacarid139 = {\n",
    "    'drivewheel': 1,\n",
    "    'wheelbase': 93.7,\n",
    "    'carlength': 156.9,\n",
    "    'carwidth': 63.4,\n",
    "    'curbweight': 2050,\n",
    "    'enginesize': 97,\n",
    "    'fuelsystem': 1,\n",
    "    'boreratio': 3.62,\n",
    "    'horsepower': 69\n",
    "}\n",
    "# price = Rp. 83,495,052"
   ]
  },
  {
   "cell_type": "code",
   "execution_count": 72,
   "id": "40e57388",
   "metadata": {},
   "outputs": [
    {
     "name": "stdout",
     "output_type": "stream",
     "text": [
      "RF\n",
      "{'Rentang Harga (IDR)': ('Rp 512.267.757', 'Rp 740.655.600'), 'Eksak Harga (IDR)': 'Rp 674.649.319', 'Execution Time (s)': 0.0637}\n",
      "XGB\n",
      "{'Rentang Harga (IDR)': ('Rp 87.838.624', 'Rp 87.838.624'), 'Eksak Harga (IDR)': 'Rp 87.838.624', 'Execution Time (s)': 0.004}\n"
     ]
    }
   ],
   "source": [
    "print(\"RF\")\n",
    "print(Prediction(Model='RF', Fitur=inputdatacarid139))\n",
    "print(\"XGB\")\n",
    "print(Prediction(Model='XGB', Fitur=inputdatacarid139))"
   ]
  },
  {
   "cell_type": "code",
   "execution_count": 73,
   "id": "aaf31f1e",
   "metadata": {},
   "outputs": [],
   "source": [
    "inputdatacarid75 = {\n",
    "    'drivewheel': 2,\n",
    "    'wheelbase': 112,\n",
    "    'carlength': 199.2,\n",
    "    'carwidth': 72,\n",
    "    'curbweight': 3715,\n",
    "    'enginesize': 304,\n",
    "    'fuelsystem': 5,\n",
    "    'boreratio': 3.8,\n",
    "    'horsepower': 184\n",
    "}\n",
    "# price = Rp. 740,655,600"
   ]
  },
  {
   "cell_type": "code",
   "execution_count": 74,
   "id": "93b3ccb7",
   "metadata": {},
   "outputs": [
    {
     "name": "stdout",
     "output_type": "stream",
     "text": [
      "RF\n",
      "{'Rentang Harga (IDR)': ('Rp 512.267.757', 'Rp 740.655.600'), 'Eksak Harga (IDR)': 'Rp 674.649.319', 'Execution Time (s)': 0.0615}\n",
      "XGB\n",
      "{'Rentang Harga (IDR)': ('Rp 731.911.424', 'Rp 731.911.424'), 'Eksak Harga (IDR)': 'Rp 731.911.424', 'Execution Time (s)': 0.005}\n"
     ]
    }
   ],
   "source": [
    "print(\"RF\")\n",
    "print(Prediction(Model='RF', Fitur=inputdatacarid75))\n",
    "print(\"XGB\")\n",
    "print(Prediction(Model='XGB', Fitur=inputdatacarid75))"
   ]
  }
 ],
 "metadata": {
  "kernelspec": {
   "display_name": ".venv (3.10.2)",
   "language": "python",
   "name": "python3"
  },
  "language_info": {
   "codemirror_mode": {
    "name": "ipython",
    "version": 3
   },
   "file_extension": ".py",
   "mimetype": "text/x-python",
   "name": "python",
   "nbconvert_exporter": "python",
   "pygments_lexer": "ipython3",
   "version": "3.10.2"
  }
 },
 "nbformat": 4,
 "nbformat_minor": 5
}
